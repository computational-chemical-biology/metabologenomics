{
 "cells": [
  {
   "cell_type": "code",
   "execution_count": 3,
   "metadata": {
    "notebookRunGroups": {
     "groupValue": "1"
    }
   },
   "outputs": [],
   "source": [
    "from Bio import SeqIO\n",
    "import pandas as pd"
   ]
  },
  {
   "cell_type": "code",
   "execution_count": 4,
   "metadata": {},
   "outputs": [],
   "source": [
    "def extract_sequences_from_gbk(gbk_file,new_file,ffn_file = None, tags = [\"locus_tag\",\"protein_id\",\"note\"]):\n",
    "    # ffn = SeqIO.to_dict(SeqIO.parse(ffn_file,\"fasta\"))\n",
    "    with open(new_file,\"w+\") as fasta_file:\n",
    "        for record in SeqIO.parse(gbk_file, \"genbank\"):\n",
    "            for feature in record.features:\n",
    "                if feature.type == \"CDS\":\n",
    "                    for key in tags:\n",
    "                        if feature.qualifiers.get(key):\n",
    "                            fasta_file.write(f\">{feature.qualifiers.get(key)[0]}\\n\")\n",
    "                            fasta_file.write(F\"{feature.qualifiers['translation'][0]}\\n\")\n",
    "                    # try:\n",
    "                    #     fasta_file.write(f\">{feature.qualifiers['locus_tag'][0]}\\n\")\n",
    "                    # try:\n",
    "                    #     fasta_file.write(f\">{feature.qualifiers['protein_id'][0]}\\n\")\n",
    "                    # except:\n",
    "                    #     fasta_file.write(f\">{feature.qualifiers['note'][0]}\\n\")\n",
    "                    \n",
    "\n",
    "\n",
    "                    # fasta_file.write(f\"{str(ffn[feature.qualifiers['locus_tag'][0]].seq)}\\n\")\n",
    "\n",
    "    "
   ]
  },
  {
   "cell_type": "code",
   "execution_count": 5,
   "metadata": {},
   "outputs": [],
   "source": [
    "# for r in SeqIO.parse(\"../bgc_comp/quinolicomicin/BGC0002520.gbk\",\"gb\"):\n",
    "#     for features in r.features:\n",
    "#         if features.type == \"CDS\":\n",
    "#             for key in [\"locus_tag\",\"protein_id\",\"note\"]:\n",
    "#                     if features.qualifiers.get(key):\n",
    "#                         print(features.qualifiers.get(key))"
   ]
  },
  {
   "cell_type": "markdown",
   "metadata": {},
   "source": [
    "## Extract sequences from BGCc"
   ]
  },
  {
   "cell_type": "code",
   "execution_count": 82,
   "metadata": {},
   "outputs": [],
   "source": [
    "#Genomic Files\n",
    "ref_file = \"../bgc_comp/quinolicomicin/BGC0002520.gbk\"\n",
    "\n",
    "minion_gbk_antismash = \"../BGC/minion/contig_3.region001.gbk\"\n",
    "# minion_ffn_prokka = \"../data/minion/PROKKA_11092023/PROKKA_11092023.ffn\"\n",
    "\n",
    "illumina_gbk_antismash = \"../BGC/illumina/Scaffold_1.region009.gbk\"\n",
    "# illumina_ffn_prokka = \"../data/ilumina/PROKKA_11092023/PROKKA_11092023.ffn\""
   ]
  },
  {
   "cell_type": "code",
   "execution_count": 7,
   "metadata": {},
   "outputs": [],
   "source": [
    "# extract_sequences_from_gbk(\n",
    "#     gbk_file = ref_file\n",
    "#     # ffn_file = minion_ffn_prokka,\n",
    "#     new_file = \"../bgc_comp/cinerubin/BGC0002362.fasta\"\n",
    "# )\n",
    "# extract_sequences_from_gbk(\n",
    "#     gbk_file = minion_gbk_antismash,\n",
    "#     # ffn_file = minion_ffn_prokka,\n",
    "#     new_file = \"../bgc_comp/cinerubin/BRA006_minion.fasta\"\n",
    "# )\n",
    "# extract_sequences_from_gbk(\n",
    "#     gbk_file = illumina_gbk_antismash,\n",
    "#     # ffn_file = illumina_ffn_prokka,\n",
    "#     new_file = \"../bgc_comp/cinerubin/BRA006_illumina.fasta\"\n",
    "# )"
   ]
  },
  {
   "cell_type": "markdown",
   "metadata": {},
   "source": [
    "## Analysis"
   ]
  },
  {
   "cell_type": "code",
   "execution_count": 83,
   "metadata": {},
   "outputs": [],
   "source": [
    "def filter_blast(blast_df):\n",
    "    columns = [\"qseqid\", \"sseqid\", \"pident\", \"length\", \"mismatch\", \"gapopen\", \"qstart\",\"qend\", \"sstart\", \"send\", \"evalue\", \"bitscore\"]\n",
    "    df = pd.read_csv(blast_df,sep=\"\\t\", names=columns)\n",
    "    idx_min = df.groupby(\"qseqid\")[\"evalue\"].idxmin()\n",
    "    return df.loc[idx_min]"
   ]
  },
  {
   "cell_type": "code",
   "execution_count": 84,
   "metadata": {},
   "outputs": [
    {
     "name": "stdout",
     "output_type": "stream",
     "text": [
      "qseqid sseqid pident length mismatch gapopen qstart qend sstart send evalue bitscore\n"
     ]
    }
   ],
   "source": [
    "columns = [\"qseqid\", \"sseqid\", \"pident\", \"length\", \"mismatch\", \"gapopen\", \"qstart\",\"qend\", \"sstart\", \"send\", \"evalue\", \"bitscore\"]\n",
    "print(\" \".join(columns))"
   ]
  },
  {
   "cell_type": "code",
   "execution_count": 85,
   "metadata": {},
   "outputs": [],
   "source": [
    "minion = filter_blast(\"../bgc_comp/quinolicomicin/minion_blast.csv\")\n",
    "minion = minion[minion.pident>70]\n",
    "illumina = filter_blast(\"../bgc_comp/quinolicomicin/illumina_blast.csv\")\n",
    "illumina = illumina[illumina.pident>70]"
   ]
  },
  {
   "cell_type": "code",
   "execution_count": 86,
   "metadata": {},
   "outputs": [],
   "source": [
    "minion.sort_values(\"sseqid\").head()\n",
    "minion.to_csv(\"../tables/quinolicomicin_minion_vs_ref.csv\", index = False)"
   ]
  },
  {
   "cell_type": "code",
   "execution_count": 87,
   "metadata": {},
   "outputs": [],
   "source": [
    "illumina.sort_values(\"sseqid\").head()\n",
    "illumina.to_csv(\"../tables/quinolicomicin_illumina_vs_ref.csv\", index = False)"
   ]
  },
  {
   "cell_type": "code",
   "execution_count": 88,
   "metadata": {},
   "outputs": [],
   "source": [
    "from Bio import SeqIO\n",
    "from Bio.Graphics import GenomeDiagram\n",
    "from Bio.Graphics.GenomeDiagram import CrossLink\n",
    "from reportlab.lib import colors\n",
    "from Bio.SeqFeature import SeqFeature, FeatureLocation"
   ]
  },
  {
   "cell_type": "code",
   "execution_count": 89,
   "metadata": {},
   "outputs": [],
   "source": [
    "ref_gbk = SeqIO.read(ref_file, \"gb\")\n",
    "minion_gbk = SeqIO.read(minion_gbk_antismash, \"gb\")\n",
    "illumina_gbk = SeqIO.read(illumina_gbk_antismash, \"gb\")\n",
    "records = {rec.name: rec for rec in [minion_gbk, ref_gbk, illumina_gbk]}"
   ]
  },
  {
   "cell_type": "code",
   "execution_count": 90,
   "metadata": {},
   "outputs": [],
   "source": [
    "minion_vs_ref =  [(i.pident,i.qseqid,i.sseqid) for i in minion.itertuples()]\n",
    "ref_vs_illumina = [(i.pident,i.sseqid,i.qseqid,) for i in illumina.itertuples()]"
   ]
  },
  {
   "cell_type": "code",
   "execution_count": 91,
   "metadata": {},
   "outputs": [],
   "source": [
    "color_map = {\n",
    "    \"regulatory\":\"green\",\n",
    "    \"transport\":\"cyan\",\n",
    "    \"other\":\"lightgrey\",\n",
    "    \"biosynthetic\":\"darkred\",\n",
    "    \"biosynthetic-additional\":\"lightpink\"}"
   ]
  },
  {
   "cell_type": "code",
   "execution_count": 92,
   "metadata": {},
   "outputs": [],
   "source": [
    "def get_feature(features, id, tags=[\"locus_tag\", \"gene\",\"note\",\"protein_id\"]):\n",
    "    \"\"\"Search list of SeqFeature objects for an identifier under the given tags.\"\"\"\n",
    "    for f in features:\n",
    "        for key in tags:\n",
    "            # tag may not be present in this feature\n",
    "            for x in f.qualifiers.get(key, []):\n",
    "                if x == id:\n",
    "                    return f\n",
    "    raise KeyError(id)"
   ]
  },
  {
   "cell_type": "code",
   "execution_count": 96,
   "metadata": {},
   "outputs": [],
   "source": [
    "name = \"../figs/BRA006_70_quinolicomicin\"\n",
    "gd_diagram = GenomeDiagram.Diagram(name)\n",
    "feature_sets = {}\n",
    "max_len = 0\n",
    "for i, record in enumerate([minion_gbk, ref_gbk, illumina_gbk]):\n",
    "    max_len = max(max_len, len(record))\n",
    "    # Allocate tracks 5 (top), 3, 1 (bottom) for A, B, C\n",
    "    # (empty tracks 2 and 4 add useful white space to emphasise the cross links\n",
    "    # and also serve to make the tracks vertically more compressed)\n",
    "    gd_track_for_features = gd_diagram.new_track(\n",
    "        5 - 2 * i,\n",
    "        name=\"-\",\n",
    "        greytrack=True,\n",
    "        height=0.5,\n",
    "        start=0,\n",
    "        end=len(record),\n",
    "    )\n",
    "    assert record.name not in feature_sets\n",
    "    feature_sets[record.name] = gd_track_for_features.new_set()"
   ]
  },
  {
   "cell_type": "code",
   "execution_count": 97,
   "metadata": {},
   "outputs": [
    {
     "data": {
      "text/plain": [
       "{'contig_3': SeqRecord(seq=Seq('CTAGCTTCGCGGAAGCACGGTGATGGCCACGATGACGCTGTTGACGACAGTGGC...TGA'), id='contig_3', name='contig_3', description='contig_3', dbxrefs=[]),\n",
       " 'BGC0002520': SeqRecord(seq=Seq('GATCCGCAGTGCCTCGCGCTGACCCTCAGGGCGCTGACCCGGCAGACGCTGCCG...TGG'), id='BGC0002520', name='BGC0002520', description='Micromonospora sp. AK-AN57 DNA, biosynthetic gene cluster for quinolidomicin A', dbxrefs=[]),\n",
       " 'Scaffold_1': SeqRecord(seq=Seq('ATGCGACGCGATGACCGTGCCCCGAAGCCCGACGCCCCCGTGTACGAGGGCGCC...TGA'), id='Scaffold_1', name='Scaffold_1', description='Scaffold_1', dbxrefs=[])}"
      ]
     },
     "execution_count": 97,
     "metadata": {},
     "output_type": "execute_result"
    }
   ],
   "source": [
    "records"
   ]
  },
  {
   "cell_type": "code",
   "execution_count": 98,
   "metadata": {},
   "outputs": [
    {
     "data": {
      "text/plain": [
       "'contig_3'"
      ]
     },
     "execution_count": 98,
     "metadata": {},
     "output_type": "execute_result"
    }
   ],
   "source": [
    "minion_gbk.name"
   ]
  },
  {
   "cell_type": "code",
   "execution_count": 99,
   "metadata": {},
   "outputs": [],
   "source": [
    "for X, Y, X_vs_Y in [\n",
    "    (minion_gbk.name, ref_gbk.name, minion_vs_ref),\n",
    "    (ref_gbk.name, illumina_gbk.name, ref_vs_illumina),\n",
    "]:\n",
    "    features_X = records[X].features\n",
    "    features_Y = records[Y].features\n",
    "    set_X = feature_sets[X]\n",
    "    set_Y = feature_sets[Y]\n",
    "    for score, x, y in X_vs_Y:\n",
    "        color = colors.linearlyInterpolatedColor(\n",
    "            colors.white, colors.firebrick, 50, 100, score\n",
    "        )\n",
    "        border = colors.lightgrey\n",
    "        f_x = get_feature(features_X, x)\n",
    "        F_x = set_X.add_feature(\n",
    "            SeqFeature(FeatureLocation(f_x.location.start, f_x.location.end, strand=0)),\n",
    "            color=color,\n",
    "            border=border,\n",
    "        )\n",
    "        f_y = get_feature(features_Y, y)\n",
    "        F_y = set_Y.add_feature(\n",
    "            SeqFeature(FeatureLocation(f_y.location.start, f_y.location.end, strand=0)),\n",
    "            color=color,\n",
    "            border=border,\n",
    "        )\n",
    "        gd_diagram.cross_track_links.append(CrossLink(F_x, F_y, color, border))\n"
   ]
  },
  {
   "cell_type": "code",
   "execution_count": 100,
   "metadata": {},
   "outputs": [],
   "source": [
    "for record in [minion_gbk,ref_gbk,illumina_gbk]:\n",
    "    gd_feature_set = feature_sets[record.name]\n",
    "    for feature in record.features:\n",
    "        if feature.type == \"CDS\":\n",
    "            try:\n",
    "                c = color_map[feature.qualifiers[\"gene_kind\"][0]]\n",
    "            except:\n",
    "                c = color_map[\"other\"]\n",
    "            # Exclude this feature\n",
    "            gd_feature_set.add_feature(\n",
    "                feature,\n",
    "                sigil=\"BIGARROW\",\n",
    "                color=c,\n",
    "                label=False,\n",
    "                # name=str(i + 1),\n",
    "                label_position=\"start\",\n",
    "                label_size=6,\n",
    "                label_angle=0,\n",
    "        )"
   ]
  },
  {
   "cell_type": "code",
   "execution_count": 101,
   "metadata": {},
   "outputs": [],
   "source": [
    "gd_diagram.draw(format=\"linear\", pagesize=\"A4\", fragments=1, start=0, end=max_len)\n",
    "gd_diagram.write(name + \".svg\", \"SVG\")"
   ]
  },
  {
   "cell_type": "markdown",
   "metadata": {},
   "source": [
    "---"
   ]
  },
  {
   "cell_type": "code",
   "execution_count": 102,
   "metadata": {},
   "outputs": [],
   "source": [
    "# import matplotlib.pyplot as plt\n",
    "# names_mapp = {\n",
    "#     \"Regulatory\":\"green\",\n",
    "#     \"Transport\":\"cyan\",\n",
    "#     \"Other\":\"lightgrey\",\n",
    "#     \"Biosynthetic\":\"darkred\",\n",
    "#     \"Biosynthetic-additional\":\"lightpink\"}\n",
    "\n",
    "# # Criar uma lista de patches para a legenda\n",
    "# legend_patches = [plt.Line2D([0], [0], marker='o', color='w', markerfacecolor=color, markersize=10, label=label) for label, color in names_mapp.items()]\n",
    "\n",
    "# # Criar a legenda\n",
    "# plt.legend(handles=legend_patches)\n",
    "\n",
    "# # Mostrar o gráfico vazio apenas para exibir a legenda\n",
    "# plt.axis('off')\n",
    "# # plt.show()\n",
    "# plt.savefig(\"../figs/legend.svg\", format = \"svg\", dpi = 1200)"
   ]
  },
  {
   "cell_type": "code",
   "execution_count": null,
   "metadata": {},
   "outputs": [],
   "source": []
  }
 ],
 "metadata": {
  "kernelspec": {
   "display_name": "omics",
   "language": "python",
   "name": "python3"
  },
  "language_info": {
   "codemirror_mode": {
    "name": "ipython",
    "version": 3
   },
   "file_extension": ".py",
   "mimetype": "text/x-python",
   "name": "python",
   "nbconvert_exporter": "python",
   "pygments_lexer": "ipython3",
   "version": "3.10.9"
  }
 },
 "nbformat": 4,
 "nbformat_minor": 2
}
